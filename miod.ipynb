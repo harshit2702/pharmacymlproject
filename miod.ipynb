{
 "cells": [
  {
   "cell_type": "code",
   "execution_count": 3,
   "metadata": {},
   "outputs": [
    {
     "name": "stderr",
     "output_type": "stream",
     "text": [
      "2024-10-05 10:22:57.526919: E external/local_xla/xla/stream_executor/cuda/cuda_fft.cc:485] Unable to register cuFFT factory: Attempting to register factory for plugin cuFFT when one has already been registered\n",
      "2024-10-05 10:22:57.540973: E external/local_xla/xla/stream_executor/cuda/cuda_dnn.cc:8454] Unable to register cuDNN factory: Attempting to register factory for plugin cuDNN when one has already been registered\n",
      "2024-10-05 10:22:57.545207: E external/local_xla/xla/stream_executor/cuda/cuda_blas.cc:1452] Unable to register cuBLAS factory: Attempting to register factory for plugin cuBLAS when one has already been registered\n",
      "2024-10-05 10:22:57.556738: I tensorflow/core/platform/cpu_feature_guard.cc:210] This TensorFlow binary is optimized to use available CPU instructions in performance-critical operations.\n",
      "To enable the following instructions: AVX2 FMA, in other operations, rebuild TensorFlow with the appropriate compiler flags.\n",
      "2024-10-05 10:22:58.587819: W tensorflow/compiler/tf2tensorrt/utils/py_utils.cc:38] TF-TRT Warning: Could not find TensorRT\n"
     ]
    }
   ],
   "source": [
    "import pandas as pd\n",
    "from sklearn.model_selection import train_test_split\n",
    "from sklearn.linear_model import LinearRegression\n",
    "from sklearn.metrics import mean_squared_error\n",
    "from statsmodels.tsa.arima.model import ARIMA\n",
    "from sklearn.ensemble import RandomForestRegressor\n",
    "from sklearn.preprocessing import MinMaxScaler, LabelEncoder\n",
    "from keras.models import Sequential\n",
    "from keras.layers import LSTM, Dense, Input\n",
    "import numpy as np"
   ]
  },
  {
   "cell_type": "code",
   "execution_count": 4,
   "metadata": {},
   "outputs": [],
   "source": [
    "# Load the CSV file\n",
    "file_path = '/workspaces/codespaces-jupyter/Medical Inventory Optimization Dataset - Cleaned.csv'\n",
    "data = pd.read_csv(file_path)"
   ]
  },
  {
   "cell_type": "code",
   "execution_count": 5,
   "metadata": {},
   "outputs": [],
   "source": [
    "# Convert Dateofbill to datetime\n",
    "data['Dateofbill'] = pd.to_datetime(data['Dateofbill'])\n",
    "\n",
    "# Encode 'Dept' and 'Specialisation' as integers\n",
    "label_encoder_dept = LabelEncoder()\n",
    "label_encoder_specialisation = LabelEncoder()\n",
    "data['Dept'] = label_encoder_dept.fit_transform(data['Dept'])\n",
    "data['Specialisation'] = label_encoder_specialisation.fit_transform(data['Specialisation'])\n"
   ]
  },
  {
   "cell_type": "code",
   "execution_count": 6,
   "metadata": {},
   "outputs": [],
   "source": [
    "# Aggregate Quantity and Final_Sales by DrugName, Dateofbill, Specialisation, and Dept\n",
    "aggregated_data = data.groupby(['DrugName', 'Dateofbill', 'Specialisation', 'Dept']).agg({\n",
    "    'Quantity': 'sum',\n",
    "    'Final_Sales': 'sum'\n",
    "}).reset_index()\n",
    "\n",
    "# Extract date features\n",
    "aggregated_data['Month'] = aggregated_data['Dateofbill'].dt.month\n",
    "aggregated_data['Day'] = aggregated_data['Dateofbill'].dt.day\n",
    "aggregated_data['Year'] = aggregated_data['Dateofbill'].dt.year\n",
    "\n",
    "# Calculate rolling averages for Quantity and Final_Sales\n",
    "aggregated_data['Quantity_MA'] = aggregated_data.groupby('DrugName')['Quantity'].transform(lambda x: x.rolling(window=7, min_periods=1).mean())\n",
    "aggregated_data['Final_Sales_MA'] = aggregated_data.groupby('DrugName')['Final_Sales'].transform(lambda x: x.rolling(window=7, min_periods=1).mean())\n"
   ]
  },
  {
   "cell_type": "code",
   "execution_count": 7,
   "metadata": {},
   "outputs": [],
   "source": [
    "\n",
    "# Prepare data for modeling\n",
    "X = aggregated_data[['Month', 'Day', 'Year', 'Quantity_MA', 'Final_Sales_MA', 'Specialisation', 'Dept']]\n",
    "y = aggregated_data['Final_Sales']\n",
    "\n",
    "# Split data into training and testing sets\n",
    "X_train, X_test, y_train, y_test = train_test_split(X, y, test_size=0.2, random_state=42)\n"
   ]
  },
  {
   "cell_type": "code",
   "execution_count": 8,
   "metadata": {},
   "outputs": [
    {
     "name": "stderr",
     "output_type": "stream",
     "text": [
      "/home/codespace/.local/lib/python3.12/site-packages/sklearn/metrics/_regression.py:492: FutureWarning: 'squared' is deprecated in version 1.4 and will be removed in 1.6. To calculate the root mean squared error, use the function'root_mean_squared_error'.\n",
      "  warnings.warn(\n"
     ]
    }
   ],
   "source": [
    "# Linear Regression\n",
    "lr_model = LinearRegression()\n",
    "lr_model.fit(X_train, y_train)\n",
    "lr_predictions = lr_model.predict(X_test)\n",
    "lr_rmse = mean_squared_error(y_test, lr_predictions, squared=False)\n"
   ]
  },
  {
   "cell_type": "code",
   "execution_count": 9,
   "metadata": {},
   "outputs": [
    {
     "name": "stderr",
     "output_type": "stream",
     "text": [
      "/home/codespace/.local/lib/python3.12/site-packages/sklearn/metrics/_regression.py:492: FutureWarning: 'squared' is deprecated in version 1.4 and will be removed in 1.6. To calculate the root mean squared error, use the function'root_mean_squared_error'.\n",
      "  warnings.warn(\n"
     ]
    }
   ],
   "source": [
    "# ARIMA\n",
    "y_train.index = pd.date_range(start='2020-01-01', periods=len(y_train), freq='D')\n",
    "arima_model = ARIMA(y_train, order=(5, 1, 0))\n",
    "arima_model_fit = arima_model.fit()\n",
    "arima_predictions = arima_model_fit.forecast(steps=len(y_test))\n",
    "arima_rmse = mean_squared_error(y_test, arima_predictions, squared=False)\n"
   ]
  },
  {
   "cell_type": "code",
   "execution_count": 10,
   "metadata": {},
   "outputs": [
    {
     "name": "stderr",
     "output_type": "stream",
     "text": [
      "/home/codespace/.local/lib/python3.12/site-packages/sklearn/metrics/_regression.py:492: FutureWarning: 'squared' is deprecated in version 1.4 and will be removed in 1.6. To calculate the root mean squared error, use the function'root_mean_squared_error'.\n",
      "  warnings.warn(\n"
     ]
    }
   ],
   "source": [
    "# Random Forest\n",
    "rf_model = RandomForestRegressor(n_estimators=100, random_state=42)\n",
    "rf_model.fit(X_train, y_train)\n",
    "rf_predictions = rf_model.predict(X_test)\n",
    "rf_rmse = mean_squared_error(y_test, rf_predictions, squared=False)\n"
   ]
  },
  {
   "cell_type": "code",
   "execution_count": 11,
   "metadata": {},
   "outputs": [
    {
     "name": "stdout",
     "output_type": "stream",
     "text": [
      "Epoch 1/10\n",
      "\u001b[1m303/303\u001b[0m \u001b[32m━━━━━━━━━━━━━━━━━━━━\u001b[0m\u001b[37m\u001b[0m \u001b[1m2s\u001b[0m 1ms/step - loss: 651974.7500\n",
      "Epoch 2/10\n",
      "\u001b[1m303/303\u001b[0m \u001b[32m━━━━━━━━━━━━━━━━━━━━\u001b[0m\u001b[37m\u001b[0m \u001b[1m0s\u001b[0m 1ms/step - loss: 783578.0000\n",
      "Epoch 3/10\n",
      "\u001b[1m303/303\u001b[0m \u001b[32m━━━━━━━━━━━━━━━━━━━━\u001b[0m\u001b[37m\u001b[0m \u001b[1m0s\u001b[0m 1ms/step - loss: 725352.6875\n",
      "Epoch 4/10\n",
      "\u001b[1m303/303\u001b[0m \u001b[32m━━━━━━━━━━━━━━━━━━━━\u001b[0m\u001b[37m\u001b[0m \u001b[1m1s\u001b[0m 2ms/step - loss: 831542.1875\n",
      "Epoch 5/10\n",
      "\u001b[1m303/303\u001b[0m \u001b[32m━━━━━━━━━━━━━━━━━━━━\u001b[0m\u001b[37m\u001b[0m \u001b[1m0s\u001b[0m 1ms/step - loss: 626252.8125\n",
      "Epoch 6/10\n",
      "\u001b[1m303/303\u001b[0m \u001b[32m━━━━━━━━━━━━━━━━━━━━\u001b[0m\u001b[37m\u001b[0m \u001b[1m0s\u001b[0m 1ms/step - loss: 506905.5312\n",
      "Epoch 7/10\n",
      "\u001b[1m303/303\u001b[0m \u001b[32m━━━━━━━━━━━━━━━━━━━━\u001b[0m\u001b[37m\u001b[0m \u001b[1m0s\u001b[0m 1ms/step - loss: 579367.8750\n",
      "Epoch 8/10\n",
      "\u001b[1m303/303\u001b[0m \u001b[32m━━━━━━━━━━━━━━━━━━━━\u001b[0m\u001b[37m\u001b[0m \u001b[1m0s\u001b[0m 1ms/step - loss: 595712.1875\n",
      "Epoch 9/10\n",
      "\u001b[1m303/303\u001b[0m \u001b[32m━━━━━━━━━━━━━━━━━━━━\u001b[0m\u001b[37m\u001b[0m \u001b[1m0s\u001b[0m 1ms/step - loss: 562686.5625\n",
      "Epoch 10/10\n",
      "\u001b[1m303/303\u001b[0m \u001b[32m━━━━━━━━━━━━━━━━━━━━\u001b[0m\u001b[37m\u001b[0m \u001b[1m1s\u001b[0m 1ms/step - loss: 484111.4062\n",
      "\u001b[1m76/76\u001b[0m \u001b[32m━━━━━━━━━━━━━━━━━━━━\u001b[0m\u001b[37m\u001b[0m \u001b[1m0s\u001b[0m 3ms/step\n"
     ]
    },
    {
     "name": "stderr",
     "output_type": "stream",
     "text": [
      "/home/codespace/.local/lib/python3.12/site-packages/sklearn/metrics/_regression.py:492: FutureWarning: 'squared' is deprecated in version 1.4 and will be removed in 1.6. To calculate the root mean squared error, use the function'root_mean_squared_error'.\n",
      "  warnings.warn(\n"
     ]
    }
   ],
   "source": [
    "# LSTM\n",
    "scaler = MinMaxScaler()\n",
    "X_scaled = scaler.fit_transform(X)\n",
    "X_train_scaled, X_test_scaled = train_test_split(X_scaled, test_size=0.2, random_state=42)\n",
    "\n",
    "X_train_lstm = X_train_scaled.reshape((X_train_scaled.shape[0], 1, X_train_scaled.shape[1]))\n",
    "X_test_lstm = X_test_scaled.reshape((X_test_scaled.shape[0], 1, X_test_scaled.shape[1]))\n",
    "\n",
    "lstm_model = Sequential()\n",
    "lstm_model.add(Input(shape=(1, X_train_scaled.shape[1])))\n",
    "lstm_model.add(LSTM(50, return_sequences=True))\n",
    "lstm_model.add(LSTM(50))\n",
    "lstm_model.add(Dense(1))\n",
    "lstm_model.compile(optimizer='adam', loss='mean_squared_error')\n",
    "\n",
    "lstm_model.fit(X_train_lstm, y_train, epochs=10, batch_size=32)\n",
    "lstm_predictions = lstm_model.predict(X_test_lstm)\n",
    "lstm_rmse = mean_squared_error(y_test, lstm_predictions, squared=False)\n"
   ]
  },
  {
   "cell_type": "code",
   "execution_count": 12,
   "metadata": {},
   "outputs": [
    {
     "name": "stdout",
     "output_type": "stream",
     "text": [
      "Linear Regression RMSE: 287.79125877825635\n",
      "ARIMA RMSE: 575.586428964685\n",
      "Random Forest RMSE: 332.06248832435256\n",
      "LSTM RMSE: 580.0171051094078\n"
     ]
    }
   ],
   "source": [
    "# Print RMSE for each model\n",
    "print(f'Linear Regression RMSE: {lr_rmse}')\n",
    "print(f'ARIMA RMSE: {arima_rmse}')\n",
    "print(f'Random Forest RMSE: {rf_rmse}')\n",
    "print(f'LSTM RMSE: {lstm_rmse}')\n"
   ]
  },
  {
   "cell_type": "code",
   "execution_count": 13,
   "metadata": {},
   "outputs": [],
   "source": [
    "# Predict future sales\n",
    "future_dates = pd.date_range(start=aggregated_data['Dateofbill'].max(), periods=30, freq='D')\n",
    "future_data = pd.DataFrame({\n",
    "    'Dateofbill': future_dates,\n",
    "    'Month': future_dates.month,\n",
    "    'Day': future_dates.day,\n",
    "    'Year': future_dates.year\n",
    "})\n"
   ]
  },
  {
   "cell_type": "code",
   "execution_count": 14,
   "metadata": {},
   "outputs": [],
   "source": [
    "# Calculate moving averages for future dates based on historical data\n",
    "last_known_date = aggregated_data['Dateofbill'].max()\n",
    "last_known_quantity_ma = aggregated_data.loc[aggregated_data['Dateofbill'] == last_known_date, 'Quantity_MA'].values[0]\n",
    "last_known_final_sales_ma = aggregated_data.loc[aggregated_data['Dateofbill'] == last_known_date, 'Final_Sales_MA'].values[0]\n",
    "\n",
    "future_data['Quantity_MA'] = last_known_quantity_ma\n",
    "future_data['Final_Sales_MA'] = last_known_final_sales_ma\n",
    "\n",
    "# Add encoded 'Specialisation' and 'Dept' columns to future_data\n",
    "# Assuming the future data has the same 'Specialisation' and 'Dept' as the last known data\n",
    "last_known_specialisation = aggregated_data.loc[aggregated_data['Dateofbill'] == last_known_date, 'Specialisation'].values[0]\n",
    "last_known_dept = aggregated_data.loc[aggregated_data['Dateofbill'] == last_known_date, 'Dept'].values[0]\n",
    "\n",
    "future_data['Specialisation'] = last_known_specialisation\n",
    "future_data['Dept'] = last_known_dept\n"
   ]
  },
  {
   "cell_type": "code",
   "execution_count": 15,
   "metadata": {},
   "outputs": [
    {
     "name": "stdout",
     "output_type": "stream",
     "text": [
      "\u001b[1m1/1\u001b[0m \u001b[32m━━━━━━━━━━━━━━━━━━━━\u001b[0m\u001b[37m\u001b[0m \u001b[1m0s\u001b[0m 14ms/step\n",
      "   Dateofbill  Predicted_Sales_LR  Optimal_Stock_Level_LR  \\\n",
      "0  2022-12-31          -12.885684              -14.174253   \n",
      "1  2023-01-01          -13.184063              -14.502469   \n",
      "2  2023-01-02          -13.186500              -14.505150   \n",
      "3  2023-01-03          -13.188938              -14.507832   \n",
      "4  2023-01-04          -13.191376              -14.510513   \n",
      "5  2023-01-05          -13.193814              -14.513195   \n",
      "6  2023-01-06          -13.196251              -14.515877   \n",
      "7  2023-01-07          -13.198689              -14.518558   \n",
      "8  2023-01-08          -13.201127              -14.521240   \n",
      "9  2023-01-09          -13.203565              -14.523921   \n",
      "10 2023-01-10          -13.206003              -14.526603   \n",
      "11 2023-01-11          -13.208440              -14.529284   \n",
      "12 2023-01-12          -13.210878              -14.531966   \n",
      "13 2023-01-13          -13.213316              -14.534648   \n",
      "14 2023-01-14          -13.215754              -14.537329   \n",
      "15 2023-01-15          -13.218191              -14.540011   \n",
      "16 2023-01-16          -13.220629              -14.542692   \n",
      "17 2023-01-17          -13.223067              -14.545374   \n",
      "18 2023-01-18          -13.225505              -14.548055   \n",
      "19 2023-01-19          -13.227943              -14.550737   \n",
      "20 2023-01-20          -13.230380              -14.553418   \n",
      "21 2023-01-21          -13.232818              -14.556100   \n",
      "22 2023-01-22          -13.235256              -14.558782   \n",
      "23 2023-01-23          -13.237694              -14.561463   \n",
      "24 2023-01-24          -13.240132              -14.564145   \n",
      "25 2023-01-25          -13.242569              -14.566826   \n",
      "26 2023-01-26          -13.245007              -14.569508   \n",
      "27 2023-01-27          -13.247445              -14.572189   \n",
      "28 2023-01-28          -13.249883              -14.574871   \n",
      "29 2023-01-29          -13.252320              -14.577553   \n",
      "\n",
      "    Predicted_Sales_LSTM  Optimal_Stock_Level_LSTM  \n",
      "0             103.823830                114.206215  \n",
      "1             103.787064                114.165771  \n",
      "2             103.791809                114.170990  \n",
      "3             103.795944                114.175545  \n",
      "4             103.799500                114.179451  \n",
      "5             103.802582                114.182846  \n",
      "6             103.805260                114.185791  \n",
      "7             103.807571                114.188332  \n",
      "8             103.809586                114.190544  \n",
      "9             103.811325                114.192459  \n",
      "10            103.812859                114.194145  \n",
      "11            103.814186                114.195610  \n",
      "12            103.815331                114.196869  \n",
      "13            103.816345                114.197983  \n",
      "14            103.817215                114.198936  \n",
      "15            103.817993                114.199799  \n",
      "16            103.818665                114.200531  \n",
      "17            103.819260                114.201187  \n",
      "18            103.819786                114.201767  \n",
      "19            103.820244                114.202271  \n",
      "20            103.820641                114.202705  \n",
      "21            103.820999                114.203102  \n",
      "22            103.821304                114.203438  \n",
      "23            103.821579                114.203743  \n",
      "24            103.821831                114.204018  \n",
      "25            103.822037                114.204247  \n",
      "26            103.822227                114.204453  \n",
      "27            103.822403                114.204643  \n",
      "28            103.822556                114.204811  \n",
      "29            103.822693                114.204964  \n"
     ]
    },
    {
     "name": "stderr",
     "output_type": "stream",
     "text": [
      "/home/codespace/.local/lib/python3.12/site-packages/sklearn/base.py:493: UserWarning: X does not have valid feature names, but LinearRegression was fitted with feature names\n",
      "  warnings.warn(\n"
     ]
    }
   ],
   "source": [
    "# Use the best model (e.g., LSTM) to predict future sales\n",
    "future_X = future_data[['Month', 'Day', 'Year', 'Quantity_MA', 'Final_Sales_MA', 'Specialisation', 'Dept']]\n",
    "future_X_scaled = scaler.transform(future_X)\n",
    "future_X_lstm = future_X_scaled.reshape((future_X_scaled.shape[0], 1, future_X_scaled.shape[1]))\n",
    "\n",
    "# Use the appropriate input dimensions for each model\n",
    "future_predictions_lr = lr_model.predict(future_X_scaled)\n",
    "future_predictions_lstm = lstm_model.predict(future_X_lstm)\n",
    "\n",
    "# Optimize stock levels based on predictions\n",
    "optimal_stock_levels_lr = future_predictions_lr.flatten() * 1.1  # Adding 10% buffer\n",
    "optimal_stock_levels_lstm = future_predictions_lstm.flatten() * 1.1  # Adding 10% buffer\n",
    "\n",
    "# Display future predictions and optimal stock levels for both models\n",
    "future_data['Predicted_Sales_LR'] = future_predictions_lr\n",
    "future_data['Optimal_Stock_Level_LR'] = optimal_stock_levels_lr\n",
    "future_data['Predicted_Sales_LSTM'] = future_predictions_lstm\n",
    "future_data['Optimal_Stock_Level_LSTM'] = optimal_stock_levels_lstm\n",
    "\n",
    "print(future_data[['Dateofbill', 'Predicted_Sales_LR', 'Optimal_Stock_Level_LR', 'Predicted_Sales_LSTM', 'Optimal_Stock_Level_LSTM']])"
   ]
  },
  {
   "cell_type": "code",
   "execution_count": null,
   "metadata": {},
   "outputs": [],
   "source": []
  },
  {
   "cell_type": "code",
   "execution_count": null,
   "metadata": {},
   "outputs": [],
   "source": []
  }
 ],
 "metadata": {
  "kernelspec": {
   "display_name": "Python 3",
   "language": "python",
   "name": "python3"
  },
  "language_info": {
   "codemirror_mode": {
    "name": "ipython",
    "version": 3
   },
   "file_extension": ".py",
   "mimetype": "text/x-python",
   "name": "python",
   "nbconvert_exporter": "python",
   "pygments_lexer": "ipython3",
   "version": "3.12.1"
  }
 },
 "nbformat": 4,
 "nbformat_minor": 2
}
